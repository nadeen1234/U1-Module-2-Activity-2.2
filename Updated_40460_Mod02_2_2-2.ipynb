{
 "cells": [
  {
   "cell_type": "markdown",
   "metadata": {
    "id": "o1iXfAqDw3b4"
   },
   "source": [
    "# Section 2.2\n",
    "## Function Return and Multi-Parameters\n",
    "- Creating a simple function with a parameter\n",
    "- **Exploring functions with `return` values**  \n",
    "- **Creating functions with multiple parameters**  \n",
    "- Sequence in Python  \n",
    "\n",
    "-----\n",
    "\n",
    "### Student will be able to\n",
    "- Create functions with a parameter  \n",
    "- **Create functions with a `return` value**\n",
    "- **Create functions with multiple parameters**\n",
    "- Use knowledge of sequence in coding tasks \n",
    "- Use coding best practices "
   ]
  },
  {
   "cell_type": "markdown",
   "metadata": {
    "id": "JRtbV0vMw3b8"
   },
   "source": [
    "## Concept: Functions with Return Values\n",
    "\n",
    "[![view video](https://iajupyterprodblobs.blob.core.windows.net/imagecontainer/common/play_video.png)]( http://edxinteractivepage.blob.core.windows.net/edxpages/f7cff1a7-5601-48a1-95a6-fd1fdfabd20e.html?details=[{\"src\":\"http://jupyternootbookwams.streaming.mediaservices.windows.net/db990568-d940-4ede-a063-7e40ed25c978/Unit1_Section3.2-function-return.ism/manifest\",\"type\":\"application/vnd.ms-sstr+xml\"}],[{\"src\":\"http://jupyternootbookwams.streaming.mediaservices.windows.net/db990568-d940-4ede-a063-7e40ed25c978/Unit1_Section3.2-function-return.vtt\",\"srclang\":\"en\",\"kind\":\"subtitles\",\"label\":\"english\"}])\n",
    "- **`type()`** returns an object type.\n",
    "-  **`type()`** can be called with a float the return value can be stored in a variable.\n",
    "```python\n",
    "object_type = type(2.33)\n",
    "```  \n",
    "\n",
    "## Creating a function with a return value  \n",
    "- **`return`** keyword in a function *returns* a value after *exiting* the function.  \n",
    "\n",
    "```python\n",
    "def msg_double(phrase):\n",
    "      double = phrase + \" \" + phrase\n",
    "      return double\n",
    "```  \n"
   ]
  },
  {
   "cell_type": "markdown",
   "metadata": {
    "id": "_qSIucElw3b8"
   },
   "source": [
    "### Example \n",
    "  \n",
    "Review and run the code."
   ]
  },
  {
   "cell_type": "code",
   "execution_count": null,
   "metadata": {
    "id": "k0XCONE6w3b9"
   },
   "outputs": [],
   "source": [
    "# Message double returns the string Argument doubled\n",
    "def msg_double(phrase):\n",
    "    \"\"\"\n",
    "    Repeat and concatenate a phrase.\n",
    "\n",
    "    args:\n",
    "      phrase: string to be repeated\n",
    "    returns:\n",
    "      double: phrase repeated and concatenated\n",
    "    \"\"\"\n",
    "    \n",
    "    double = phrase + \" \" + phrase\n",
    "    return double\n",
    "\n",
    "# save return value in variable\n",
    "msg_2x = msg_double(\"let's go\")\n",
    "print(msg_2x)"
   ]
  },
  {
   "cell_type": "code",
   "execution_count": null,
   "metadata": {
    "id": "tMeQ3nwBw3b9"
   },
   "outputs": [],
   "source": [
    "# example of functions with return values used in functions\n",
    "def msg_double(phrase):\n",
    "    \"\"\"\n",
    "    Repeat and concatenate a phrase.\n",
    "\n",
    "    args:\n",
    "      phrase: string to be repeated\n",
    "    returns:\n",
    "      double: phrase repeated and concatenated\n",
    "    \"\"\"\n",
    "    \n",
    "    double = phrase + \" \" + phrase\n",
    "    return double\n",
    "\n",
    "# prints the returned object\n",
    "print(msg_double(\"Save Now!\"))\n",
    "\n",
    "# echo the type of the returned object\n",
    "type(msg_double(\"Save Now!\"))"
   ]
  },
  {
   "cell_type": "markdown",
   "metadata": {
    "id": "ta8QH2pDw3b-"
   },
   "source": [
    "## Task 1: A function that adds the \"Doctor\" title to a name\n",
    "- Define function `make_doctor()`&nbsp; that takes a parameter `name`\n",
    "  - add \"Doctor\" in front of **full_name**\n",
    "  - return new name (can be done in one line)\n",
    "- Get user **input** for variable **`full_name`**\n",
    "- Call the function using `full_name` &nbsp; as argument\n",
    "- Print the return value"
   ]
  },
  {
   "cell_type": "code",
   "execution_count": null,
   "metadata": {
    "id": "lLesxW6nw3b-"
   },
   "outputs": [],
   "source": [
    "# create and call make_doctor() with full_name argument from user input \n",
    "  # add \"Doctor title to name\" \n",
    "  # return new name (with Doctor in front)\n",
    "\n",
    "\n",
    "# OUTSIDE function (not indented) - get user input full_name\n",
    "\n",
    "# call function - catch the return value\n",
    "\n",
    "# print the return value\n",
    "\n"
   ]
  },
  {
   "cell_type": "markdown",
   "metadata": {
    "collapsed": true,
    "id": "OnMZH8iHw3b_"
   },
   "source": [
    "## Concept: Functions with Multiple Parameters\n",
    "Functions can have multiple parameters separated by commas.\n",
    "\n",
    "[![view video](https://iajupyterprodblobs.blob.core.windows.net/imagecontainer/common/play_video.png)]( http://edxinteractivepage.blob.core.windows.net/edxpages/f7cff1a7-5601-48a1-95a6-fd1fdfabd20e.html?details=[{\"src\":\"http://jupyternootbookwams.streaming.mediaservices.windows.net/d82c3856-61ff-4fa3-9a20-df8f6ea4dd7a/Unit1_Section3.2-MultiParam_Function.ism/manifest\",\"type\":\"application/vnd.ms-sstr+xml\"}],[{\"src\":\"http://jupyternootbookwams.streaming.mediaservices.windows.net/d82c3856-61ff-4fa3-9a20-df8f6ea4dd7a/Unit1_Section3.2-MultiParam_Function.vtt\",\"srclang\":\"en\",\"kind\":\"subtitles\",\"label\":\"english\"}])"
   ]
  },
  {
   "cell_type": "markdown",
   "metadata": {
    "collapsed": true,
    "id": "tKnYZkkDw3b_"
   },
   "source": [
    "### Example\n",
    "  \n",
    "Review and run the code."
   ]
  },
  {
   "cell_type": "code",
   "execution_count": null,
   "metadata": {
    "id": "8WBAQuaaw3b_"
   },
   "outputs": [],
   "source": [
    "def make_schedule(period1, period2):\n",
    "    \"\"\"\n",
    "    Create schedule with period numbers and courses in title case.\n",
    "\n",
    "    args:\n",
    "      period1, period 2: courses to be made into a schedule\n",
    "\n",
    "    returns:\n",
    "      schedule: student schedule\n",
    "    \"\"\"\n",
    "    \n",
    "    schedule = (\"[1st] \" + period1.title() + \", [2nd] \" + period2.title())\n",
    "    return schedule\n",
    "\n",
    "student_schedule = make_schedule(\"mathematics\", \"history\")\n",
    "print(\"SCHEDULE:\", student_schedule)"
   ]
  },
  {
   "cell_type": "markdown",
   "metadata": {
    "collapsed": true,
    "id": "IoBCA8Yrw3cA"
   },
   "source": [
    "## Task 2: Define `make_schedule()` and add a 3rd period \n",
    "- Start with the above example code (copy it here)\n",
    "- Add a parameter period_3\n",
    "- Update function code to add period_3 to the schedule\n",
    "- Call **`student_schedule()`** with an additional argument such as 'science'\n",
    "- Print the schedule"
   ]
  },
  {
   "cell_type": "code",
   "execution_count": null,
   "metadata": {
    "id": "WoC5fZbTw3cA"
   },
   "outputs": [],
   "source": [
    "# [ ] add a 3rd period parameter to make_schedule\n",
    "# [ ] BONUS - print a schedule for 6 classes (Tip: perhaps let the function make this easy)\n",
    "\n"
   ]
  },
  {
   "cell_type": "markdown",
   "metadata": {
    "id": "Z9XftNbtw3cA"
   },
   "source": [
    "[Terms of use](http://go.microsoft.com/fwlink/?LinkID=206977) &nbsp; [Privacy & cookies](https://go.microsoft.com/fwlink/?LinkId=521839) &nbsp; © 2017 Microsoft"
   ]
  }
 ],
 "metadata": {
  "anaconda-cloud": {},
  "colab": {
   "collapsed_sections": [],
   "provenance": []
  },
  "kernelspec": {
   "display_name": "Python 3",
   "language": "python",
   "name": "python3"
  },
  "language_info": {
   "codemirror_mode": {
    "name": "ipython",
    "version": 3
   },
   "file_extension": ".py",
   "mimetype": "text/x-python",
   "name": "python",
   "nbconvert_exporter": "python",
   "pygments_lexer": "ipython3",
   "version": "3.8.8"
  }
 },
 "nbformat": 4,
 "nbformat_minor": 1
}
